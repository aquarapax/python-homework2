{
 "cells": [
  {
   "cell_type": "code",
   "execution_count": 1,
   "metadata": {},
   "outputs": [
    {
     "name": "stdout",
     "output_type": "stream",
     "text": [
      "Библиотека numpy установлена\n"
     ]
    }
   ],
   "source": [
    "# Часть 1 Работа с библиотекой NumPy\n",
    "try: # Провирим установку библиотеки numpy \n",
    "    import numpy as np\n",
    "    print(\"Библиотека numpy установлена\")\n",
    "except ImportError:\n",
    "    print(\"Библиотека numpy не установлена\")"
   ]
  },
  {
   "cell_type": "code",
   "execution_count": 2,
   "metadata": {},
   "outputs": [
    {
     "name": "stdout",
     "output_type": "stream",
     "text": [
      "Матрица заполненная единицами в шахматном порядке: \n",
      "[[0 1 0 1 0 1 0 1]\n",
      " [1 0 1 0 1 0 1 0]\n",
      " [0 1 0 1 0 1 0 1]\n",
      " [1 0 1 0 1 0 1 0]\n",
      " [0 1 0 1 0 1 0 1]\n",
      " [1 0 1 0 1 0 1 0]\n",
      " [0 1 0 1 0 1 0 1]\n",
      " [1 0 1 0 1 0 1 0]]\n"
     ]
    }
   ],
   "source": [
    "matrix = np.zeros((8, 8), dtype=int) # Задача №1. Создаем матрицу размером 8х8 состоящую из 0\n",
    "matrix[0::2, 1::2] = 1  # Заполняем единицами четные строки и нечетные столбцы используя срезы\n",
    "matrix[1::2, 0::2] = 1  # Заполняем единицами нечетные строки и четные столбцы используя срезы\n",
    "print(f'Матрица заполненная единицами в шахматном порядке: ')\n",
    "print(matrix) # Вывод матрицы на экран\n",
    "np.savetxt('matrix.txt', matrix, fmt='%d') # Сохранение матрицы в файл"
   ]
  },
  {
   "cell_type": "code",
   "execution_count": 3,
   "metadata": {},
   "outputs": [
    {
     "name": "stdout",
     "output_type": "stream",
     "text": [
      "Математическое ожидание: 0.0004535631302534959\n",
      "Дисперсия: 23.486958663268975\n"
     ]
    }
   ],
   "source": [
    "vector = np.random.normal(0, 5, 2000) # Задача №2. Генерируем вектор: 2000 случайных величин, МО=0, дисперсия 0\n",
    "print(f'Математическое ожидание: {np.mean(vector)}') # Вывод математического ожидания\n",
    "print(f'Дисперсия: {np.var(vector)}') # вывод дисперсии"
   ]
  }
 ],
 "metadata": {
  "kernelspec": {
   "display_name": "venv",
   "language": "python",
   "name": "python3"
  },
  "language_info": {
   "codemirror_mode": {
    "name": "ipython",
    "version": 3
   },
   "file_extension": ".py",
   "mimetype": "text/x-python",
   "name": "python",
   "nbconvert_exporter": "python",
   "pygments_lexer": "ipython3",
   "version": "3.13.0"
  }
 },
 "nbformat": 4,
 "nbformat_minor": 2
}
