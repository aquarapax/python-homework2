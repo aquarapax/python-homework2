{
 "cells": [
  {
   "cell_type": "code",
   "execution_count": 1,
   "metadata": {},
   "outputs": [
    {
     "name": "stdout",
     "output_type": "stream",
     "text": [
      "Библиотека pandas установлена\n"
     ]
    }
   ],
   "source": [
    "# Часть 2 Работа с библиотекой Pandas\n",
    "# Провирим установку библиотеки pandas \n",
    "try:\n",
    "    import pandas as pd\n",
    "    print(\"Библиотека pandas установлена\")\n",
    "except ImportError:\n",
    "    print(\"Библиотека pandas не установлена\")"
   ]
  },
  {
   "cell_type": "code",
   "execution_count": 2,
   "metadata": {},
   "outputs": [
    {
     "name": "stdout",
     "output_type": "stream",
     "text": [
      "Наименования столбцов:\n",
      "date-time\n",
      "atmospheric pressure (mBar)\n",
      "rainfall (mm)\n",
      "wind speed (m/s)\n",
      "wind direction (degrees)\n",
      "surface temperature (C)\n",
      "relative humidity (%)\n",
      "solar flux (Kw/m2)\n",
      "battery (V)\n",
      "Наименование столбцов после редактирования:\n",
      "date_time\n",
      "a_press\n",
      "rainfall\n",
      "wind_speed\n",
      "wind_dir\n",
      "temp_\n",
      "humidity\n",
      "solar_flux\n",
      "bat_v\n"
     ]
    }
   ],
   "source": [
    "url = \"https://www.geos.ed.ac.uk/~weather/jcmb_ws/JCMB_2015_May.csv\" # Загружаем файл в DataFrame из источника\n",
    "df = pd.read_csv(url)\n",
    "print(f\"Наименования столбцов:\") # выводим названия столбцов\n",
    "print('\\n'.join(df.columns))\n",
    "# Переименуем столбцы \n",
    "df.rename(columns={\n",
    "    'date-time': 'date_time',\n",
    "    'atmospheric pressure (mBar)': 'a_press',\n",
    "    'rainfall (mm)': 'rainfall',\n",
    "    'wind speed (m/s)': 'wind_speed',\n",
    "    'wind direction (degrees)': 'wind_dir',\n",
    "    'surface temperature (C)':'temp_',\n",
    "    'relative humidity (%)': 'humidity',\n",
    "    'solar flux (Kw/m2)':'solar_flux',\n",
    "    'battery (V)':'bat_v'\n",
    "}, inplace=True)\n",
    "print(f\"Наименование столбцов после редактирования:\") # выводим наименования после редактирования столбцов\n",
    "print('\\n'.join(df.columns))"
   ]
  },
  {
   "cell_type": "code",
   "execution_count": 3,
   "metadata": {},
   "outputs": [
    {
     "name": "stdout",
     "output_type": "stream",
     "text": [
      "Первые 20 записей:\n",
      "    Unnamed: 0         date_time  a_press  rainfall  wind_speed  wind_dir  \\\n",
      "0            0  2015/05/01 00:01     1014       0.0         0.0       0.0   \n",
      "1            1  2015/05/01 00:02     1014       0.0         0.0       0.0   \n",
      "2            2  2015/05/01 00:03     1014       0.0         0.0       0.0   \n",
      "3            3  2015/05/01 00:04     1014       0.0         0.0       0.0   \n",
      "4            4  2015/05/01 00:05     1014       0.0         0.0       0.0   \n",
      "5            5  2015/05/01 00:06     1014       0.0         0.0       0.0   \n",
      "6            6  2015/05/01 00:07     1014       0.0         0.0       0.0   \n",
      "7            7  2015/05/01 00:08     1014       0.0         0.0       0.0   \n",
      "8            8  2015/05/01 00:09     1014       0.0         0.0       0.0   \n",
      "9            9  2015/05/01 00:10     1014       0.0         0.0       0.0   \n",
      "10          10  2015/05/01 00:11     1014       0.0         0.0       0.0   \n",
      "11          11  2015/05/01 00:12     1014       0.0         0.0       0.0   \n",
      "12          12  2015/05/01 00:13     1014       0.0         0.0       0.0   \n",
      "13          13  2015/05/01 00:14     1014       0.0         0.0       0.0   \n",
      "14          14  2015/05/01 00:15     1014       0.0         0.0       0.0   \n",
      "15          15  2015/05/01 00:16     1014       0.0         0.0       0.0   \n",
      "16          16  2015/05/01 00:17     1014       0.0         0.0       0.0   \n",
      "17          17  2015/05/01 00:18     1014       0.0         0.0       0.0   \n",
      "18          18  2015/05/01 00:19     1014       0.0         0.0       0.0   \n",
      "19          19  2015/05/01 00:20     1014       0.0         0.0       0.0   \n",
      "\n",
      "    temp_  humidity  solar_flux  bat_v  \n",
      "0   4.565      79.5         0.0  13.89  \n",
      "1   4.543      79.4         0.0  13.89  \n",
      "2   4.494      79.3         0.0  13.89  \n",
      "3   4.472      79.3         0.0  13.89  \n",
      "4   4.453      79.4         0.0  13.89  \n",
      "5   4.436      79.4         0.0  13.89  \n",
      "6   4.425      79.4         0.0  13.89  \n",
      "7   4.376      79.3         0.0  13.89  \n",
      "8   4.327      79.3         0.0  13.89  \n",
      "9   4.288      79.4         0.0  13.89  \n",
      "10  4.269      79.5         0.0  13.89  \n",
      "11  4.258      79.6         0.0  13.89  \n",
      "12  4.264      79.8         0.0  13.89  \n",
      "13  4.280      79.9         0.0  13.89  \n",
      "14  4.280      80.0         0.0  13.89  \n",
      "15  4.294      80.1         0.0  13.89  \n",
      "16  4.324      80.2         0.0  13.89  \n",
      "17  4.327      80.2         0.0  13.89  \n",
      "18  4.313      80.1         0.0  13.89  \n",
      "19  4.280      80.0         0.0  13.89  \n"
     ]
    }
   ],
   "source": [
    "df.head(1000).to_csv('data1000_rows.csv') # Сохраняем первые 1000 строк DataFrame в CSV-файл\n",
    "new_df = pd.read_csv('data1000_rows.csv') # Загружаем в DataFrame сохраненный CSV-файл\n",
    "print(\"Первые 20 записей:\") # Выводим первые 20 записей\n",
    "print(new_df.head(20))"
   ]
  },
  {
   "cell_type": "code",
   "execution_count": 4,
   "metadata": {},
   "outputs": [
    {
     "name": "stdout",
     "output_type": "stream",
     "text": [
      "Последние 20 записей:\n",
      "     Unnamed: 0         date_time  a_press  rainfall  wind_speed  wind_dir  \\\n",
      "980         980  2015/05/01 16:21     1013       0.0       1.750     42.21   \n",
      "981         981  2015/05/01 16:22     1013       0.0       1.792     76.60   \n",
      "982         982  2015/05/01 16:23     1013       0.0       2.229     30.73   \n",
      "983         983  2015/05/01 16:24     1013       0.0       3.167     56.83   \n",
      "984         984  2015/05/01 16:25     1013       0.0       2.521     45.30   \n",
      "985         985  2015/05/01 16:26     1013       0.0       2.500     67.09   \n",
      "986         986  2015/05/01 16:27     1013       0.0       2.458     53.44   \n",
      "987         987  2015/05/01 16:28     1013       0.0       1.771     67.05   \n",
      "988         988  2015/05/01 16:29     1013       0.0       2.688     59.57   \n",
      "989         989  2015/05/01 16:30     1013       0.0       3.063     79.10   \n",
      "990         990  2015/05/01 16:31     1013       0.0       1.438     66.25   \n",
      "991         991  2015/05/01 16:32     1013       0.0       1.958     38.84   \n",
      "992         992  2015/05/01 16:33     1013       0.0       3.396     61.41   \n",
      "993         993  2015/05/01 16:34     1013       0.0       2.125     61.42   \n",
      "994         994  2015/05/01 16:35     1013       0.0       1.563     51.54   \n",
      "995         995  2015/05/01 16:36     1013       0.0       3.604     42.71   \n",
      "996         996  2015/05/01 16:37     1013       0.0       3.500     39.52   \n",
      "997         997  2015/05/01 16:38     1013       0.0       3.083     44.23   \n",
      "998         998  2015/05/01 16:39     1013       0.0       1.792     64.90   \n",
      "999         999  2015/05/01 16:40     1013       0.0       2.125     42.44   \n",
      "\n",
      "     temp_  humidity  solar_flux  bat_v  \n",
      "980   7.53     61.70    0.483895  13.55  \n",
      "981   7.68     61.50    0.498693  13.54  \n",
      "982   7.79     60.91    0.516450  13.55  \n",
      "983   7.60     61.40    0.512011  13.55  \n",
      "984   7.45     62.03    0.506092  13.55  \n",
      "985   7.58     61.11    0.494253  13.55  \n",
      "986   7.43     61.64    0.504612  13.55  \n",
      "987   7.50     61.90    0.512011  13.55  \n",
      "988   7.58     61.44    0.537167  13.55  \n",
      "989   7.39     61.97    0.543087  13.55  \n",
      "990   7.46     62.23    0.557885  13.55  \n",
      "991   7.61     61.74    0.550486  13.55  \n",
      "992   7.35     62.82    0.498693  13.55  \n",
      "993   7.24     63.41    0.409905  13.55  \n",
      "994   7.38     62.43    0.517930  13.56  \n",
      "995   7.31     62.69    0.531248  13.55  \n",
      "996   7.18     62.95    0.546046  13.55  \n",
      "997   7.15     63.61    0.554925  13.56  \n",
      "998   7.32     62.88    0.568243  13.56  \n",
      "999   7.40     62.62    0.583041  13.56  \n"
     ]
    }
   ],
   "source": [
    "# Выводим последние 20 записей\n",
    "print(\"Последние 20 записей:\")\n",
    "print(new_df.tail(20))"
   ]
  },
  {
   "cell_type": "code",
   "execution_count": 5,
   "metadata": {},
   "outputs": [
    {
     "name": "stdout",
     "output_type": "stream",
     "text": [
      "Скорость ветра и влажность с 12:00 до 12:05:\n",
      "            date_time  wind_speed  humidity\n",
      "719  2015/05/01 12:00       2.896     57.84\n",
      "720  2015/05/01 12:01       2.521     57.58\n",
      "721  2015/05/01 12:02       0.917     57.15\n",
      "722  2015/05/01 12:03       1.708     57.19\n",
      "723  2015/05/01 12:04       2.667     57.38\n",
      "724  2015/05/01 12:05       2.604     57.68\n"
     ]
    }
   ],
   "source": [
    "# Выводим срез: столбцы Скорость ветра и относительная влажность время с 12:00 по 12:05 01.05.2015\n",
    "print(\"Скорость ветра и влажность с 12:00 до 12:05:\")\n",
    "print(new_df.loc[(new_df['date_time'] >= '2015/05/01 12:00') & (new_df['date_time'] < '2015/05/01 12:06' ), ['date_time','wind_speed', 'humidity']])"
   ]
  },
  {
   "cell_type": "code",
   "execution_count": 6,
   "metadata": {},
   "outputs": [
    {
     "name": "stdout",
     "output_type": "stream",
     "text": [
      "Количество уникальных значений относительной влажности': 521\n",
      "ТОП10 скоростей ветра:\n",
      "            date_time  wind_speed\n",
      "869  2015/05/01 14:30       4.625\n",
      "868  2015/05/01 14:29       4.250\n",
      "828  2015/05/01 13:49       4.167\n",
      "727  2015/05/01 12:08       4.146\n",
      "909  2015/05/01 15:10       4.063\n",
      "841  2015/05/01 14:02       3.896\n",
      "892  2015/05/01 14:53       3.875\n",
      "867  2015/05/01 14:28       3.854\n",
      "900  2015/05/01 15:01       3.854\n",
      "818  2015/05/01 13:39       3.833\n"
     ]
    },
    {
     "data": {
      "text/plain": [
       "<Axes: xlabel='date_time'>"
      ]
     },
     "execution_count": 6,
     "metadata": {},
     "output_type": "execute_result"
    },
    {
     "data": {
      "image/png": "[encoded data removed]",
      "text/plain": [
       "<Figure size 800x400 with 1 Axes>"
      ]
     },
     "metadata": {},
     "output_type": "display_data"
    }
   ],
   "source": [
    "# Количество уникальных значений столбца relative_humidity\n",
    "print(f\"Количество уникальных значений относительной влажности': {new_df['humidity'].nunique()}\")\n",
    "# 10 максимальных значений скорости ветра \n",
    "top_speed_max10 = new_df[[\"date_time\",\"wind_speed\"]].nlargest(10, 'wind_speed')\n",
    "print(f'ТОП10 скоростей ветра:')\n",
    "print(top_speed_max10)\n",
    "# Вывод графика\n",
    "top_speed_max10.set_index('date_time', inplace=True) # делаем date_time индексом\n",
    "top_speed_max10.plot(figsize=(8, 4), color='red')"
   ]
  }
 ],
 "metadata": {
  "kernelspec": {
   "display_name": "venv",
   "language": "python",
   "name": "python3"
  },
  "language_info": {
   "codemirror_mode": {
    "name": "ipython",
    "version": 3
   },
   "file_extension": ".py",
   "mimetype": "text/x-python",
   "name": "python",
   "nbconvert_exporter": "python",
   "pygments_lexer": "ipython3",
   "version": "3.13.0"
  }
 },
 "nbformat": 4,
 "nbformat_minor": 2
}
